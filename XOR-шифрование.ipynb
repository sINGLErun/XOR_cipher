{
 "cells": [
  {
   "cell_type": "markdown",
   "metadata": {},
   "source": [
    "#### источник https://pythonworld.ru/osnovy/tasks.html\n",
    "\n",
    "написать функцию XOR_cipher, принимающая 2 аргумента:\n",
    "строку, которую нужно зашифровать, и ключ шифрования,\n",
    "которая возвращает строку, зашифрованную путем применения\n",
    "функции XOR (^) над символами строки с ключом.\n",
    "Написать также функцию XOR_uncipher, которая по\n",
    "зашифрованной строке и ключу восстанавливает исходную строку."
   ]
  },
  {
   "cell_type": "code",
   "execution_count": 21,
   "metadata": {},
   "outputs": [
    {
     "name": "stdout",
     "output_type": "stream",
     "text": [
      "Help on built-in function ord in module builtins:\n",
      "\n",
      "ord(c, /)\n",
      "    Return the Unicode code point for a one-character string.\n",
      "\n"
     ]
    }
   ],
   "source": [
    "help(ord)"
   ]
  },
  {
   "cell_type": "code",
   "execution_count": 210,
   "metadata": {},
   "outputs": [
    {
     "data": {
      "text/plain": [
       "'Привет! Хочешь побегать?'"
      ]
     },
     "execution_count": 210,
     "metadata": {},
     "output_type": "execute_result"
    }
   ],
   "source": [
    "def XOR_cipher(string, key='1'):\n",
    "    # XOR_cipher ≡ XOR_uncipher,\n",
    "    # если ему при этом давать тот же ключ;\n",
    "    # ведь: (a^b)^b ≡ a\n",
    "    #\n",
    "    # так ограниченные возможности,\n",
    "    # можно вылезти за границы ASCII\n",
    "    \n",
    "    s_ = [ord(el) for el in string]\n",
    "    k_ = [ord(el) for el in key]\n",
    "    k_ = sum(k_)\n",
    "\n",
    "    ciphered_string = ''.join([chr(s^k_) for s in s_]) \n",
    "    \n",
    "    return ciphered_string\n",
    "\n",
    "ciphered_string = XOR_cipher('Привет! Хочешь побегать?', key='Улица')\n",
    "#ciphered_string\n",
    "XOR_cipher(ciphered_string, key='Улица')"
   ]
  },
  {
   "cell_type": "code",
   "execution_count": 161,
   "metadata": {},
   "outputs": [
    {
     "name": "stdout",
     "output_type": "stream",
     "text": [
      "10\n"
     ]
    }
   ],
   "source": [
    "# Сначала я хочу написать функцию перевода\n",
    "# в двоичную систему для проверки\n",
    "# Привлекли использование *args, что позволяет\n",
    "# использовать функцию для строк и чисел\n",
    "\n",
    "def exchange(*num, reverse=False):\n",
    "    \n",
    "    if not reverse:\n",
    "        s_ = ''\n",
    "        div2 = num//2\n",
    "        while num >= 2:\n",
    "            s_ += str(num%2)\n",
    "            num = div2\n",
    "            div2 = num//2\n",
    "            \n",
    "        s_ += str(num%2)\n",
    "        return s_[::-1]\n",
    "    \n",
    "    else:\n",
    "        s_ = 0\n",
    "        for k in range(len(num[0])-1, -1, -1):\n",
    "            s_ += 2**k * int(num[0][len(num[0])-1 - k])\n",
    "        \n",
    "            if int(num[0][len(num[0])-1 - k]) >= 2:\n",
    "                return 'Error: Number is not in a binary system'\n",
    "            \n",
    "        return s_\n",
    "        \n",
    "print(exchange('1010', reverse=True))\n",
    "\n",
    "# СОГЛАСЕН, НЕ ОСОБО ЭТО И ПОЛЕЗНО"
   ]
  }
 ],
 "metadata": {
  "kernelspec": {
   "display_name": "Python 3",
   "language": "python",
   "name": "python3"
  },
  "language_info": {
   "codemirror_mode": {
    "name": "ipython",
    "version": 3
   },
   "file_extension": ".py",
   "mimetype": "text/x-python",
   "name": "python",
   "nbconvert_exporter": "python",
   "pygments_lexer": "ipython3",
   "version": "3.7.4"
  }
 },
 "nbformat": 4,
 "nbformat_minor": 2
}
