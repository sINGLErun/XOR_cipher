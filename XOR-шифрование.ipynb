{
 "cells": [
  {
   "cell_type": "markdown",
   "metadata": {},
   "source": [
    "#### источник https://pythonworld.ru/osnovy/tasks.html\n",
    "\n",
    "написать функцию XOR_cipher, принимающая 2 аргумента:\n",
    "строку, которую нужно зашифровать, и ключ шифрования,\n",
    "которая возвращает строку, зашифрованную путем применения\n",
    "функции XOR (^) над символами строки с ключом.\n",
    "Написать также функцию XOR_uncipher, которая по\n",
    "зашифрованной строке и ключу восстанавливает исходную строку."
   ]
  },
  {
   "cell_type": "code",
   "execution_count": 9,
   "metadata": {
    "scrolled": true
   },
   "outputs": [
    {
     "name": "stdout",
     "output_type": "stream",
     "text": [
      "Help on built-in function ord in module builtins:\n",
      "\n",
      "ord(c, /)\n",
      "    Return the Unicode code point for a one-character string.\n",
      "\n"
     ]
    }
   ],
   "source": [
    "help(ord)"
   ]
  },
  {
   "cell_type": "markdown",
   "metadata": {},
   "source": [
    "XOR_cipher ≡ XOR_uncipher,\n",
    "если ему при этом давать тот же ключ;\n",
    "ведь: (a^b)^b ≡ a\n",
    "\n",
    "можно немного затруднить создав строку\n",
    "равную по длинне строке, которую надо\n",
    "зашифровать; организуем это повторением\n",
    "ключа до длинны строки"
   ]
  },
  {
   "cell_type": "code",
   "execution_count": 8,
   "metadata": {},
   "outputs": [
    {
     "data": {
      "text/plain": [
       "'Привет! Хочешь послушать музыку?'"
      ]
     },
     "execution_count": 8,
     "metadata": {},
     "output_type": "execute_result"
    }
   ],
   "source": [
    "def XOR_cipher(string, key='1'):\n",
    "    \n",
    "    s_ = [ord(el) for el in string]\n",
    "    k_ = [ord(el) for el in key]\n",
    "\n",
    "    ciphered_string = ''\n",
    "    for i in range(len(s_)): \n",
    "        ciphered_string += chr(s_[i]^k_[i%len(k_)]) \n",
    "        \n",
    "    return ciphered_string\n",
    "\n",
    "ciphered_string = XOR_cipher('Привет! Хочешь послушать музыку?', key='Лавочка')\n",
    "#ciphered_string\n",
    "XOR_cipher(ciphered_string, key='Лавочка')"
   ]
  }
 ],
 "metadata": {
  "kernelspec": {
   "display_name": "Python 3",
   "language": "python",
   "name": "python3"
  },
  "language_info": {
   "codemirror_mode": {
    "name": "ipython",
    "version": 3
   },
   "file_extension": ".py",
   "mimetype": "text/x-python",
   "name": "python",
   "nbconvert_exporter": "python",
   "pygments_lexer": "ipython3",
   "version": "3.7.4"
  }
 },
 "nbformat": 4,
 "nbformat_minor": 2
}
